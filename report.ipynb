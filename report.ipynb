{
  "nbformat": 4,
  "nbformat_minor": 0,
  "metadata": {
    "colab": {
      "provenance": [],
      "toc_visible": true,
      "authorship_tag": "ABX9TyP8vYyBGvB0zVMkvEWdlyXA",
      "include_colab_link": true
    },
    "kernelspec": {
      "name": "python3",
      "display_name": "Python 3"
    },
    "language_info": {
      "name": "python"
    }
  },
  "cells": [
    {
      "cell_type": "markdown",
      "metadata": {
        "id": "view-in-github",
        "colab_type": "text"
      },
      "source": [
        "<a href=\"https://colab.research.google.com/github/iean3124/coding_test/blob/main/report.ipynb\" target=\"_parent\"><img src=\"https://colab.research.google.com/assets/colab-badge.svg\" alt=\"Open In Colab\"/></a>"
      ]
    },
    {
      "cell_type": "code",
      "execution_count": null,
      "metadata": {
        "colab": {
          "base_uri": "https://localhost:8080/"
        },
        "id": "G6pqrRYmtuGd",
        "outputId": "3d22ea64-6f04-41e6-c451-727b31043302"
      },
      "outputs": [
        {
          "output_type": "stream",
          "name": "stdout",
          "text": [
            "120\n"
          ]
        }
      ],
      "source": [
        "def fact(n):\n",
        "  if n==0:\n",
        "    return 1\n",
        "  else:\n",
        "    return n*fact(n-1)\n",
        "print(fact(5))"
      ]
    },
    {
      "cell_type": "code",
      "source": [
        "names=['Corey','Chrisa','Dave','Travis','Smith']\n",
        "for index, name in enumerate(names,start=1):\n",
        "    print(index,name)"
      ],
      "metadata": {
        "colab": {
          "base_uri": "https://localhost:8080/"
        },
        "id": "KJit6XRSvvuO",
        "outputId": "24609e43-d082-4651-b746-8f919704ddbd"
      },
      "execution_count": null,
      "outputs": [
        {
          "output_type": "stream",
          "name": "stdout",
          "text": [
            "1 Corey\n",
            "2 Chrisa\n",
            "3 Dave\n",
            "4 Travis\n",
            "5 Smith\n"
          ]
        }
      ]
    },
    {
      "cell_type": "code",
      "source": [
        "names=['Peter Parker','clark Kent','Wade Wilson','Bruce Wayne']\n",
        "heroes=['Spiderman','Superman','Deadpool','Batman']\n",
        "for name, hero in zip(names,heroes):\n",
        "    print(f'{name} is actually {hero}')"
      ],
      "metadata": {
        "colab": {
          "base_uri": "https://localhost:8080/"
        },
        "id": "mCV5WhRpzne5",
        "outputId": "a7aa1221-cb5c-4f5a-b737-5ee954b8aa61"
      },
      "execution_count": null,
      "outputs": [
        {
          "output_type": "stream",
          "name": "stdout",
          "text": [
            "Peter Parker is actually Spiderman\n",
            "clark Kent is actually Superman\n",
            "Wade Wilson is actually Deadpool\n",
            "Bruce Wayne is actually Batman\n"
          ]
        }
      ]
    },
    {
      "cell_type": "code",
      "source": [
        "class Car:\n",
        "    def __init__(self,color,speed):\n",
        "        self.color=color\n",
        "        self.speed= speed\n",
        "    def speedUp(self,v):\n",
        "        self.speed=self.speed+v\n",
        "        return self.speed \n",
        "    def speedDown(self,v):\n",
        "        self.speed=self.speed-v \n",
        "        return self.speed \n",
        "myCar=Car('Black',60)\n",
        "print('색상: ',myCar.color,'속도: ',myCar.speed)\n",
        "myCar.color='Red'\n",
        "print('색상: ',myCar.color)\n",
        "myCar.speedUp(10)\n",
        "print('속도: ',myCar.speed)\n",
        "myCar.speedDown(20)\n",
        "print('속도: ',myCar.speed)"
      ],
      "metadata": {
        "colab": {
          "base_uri": "https://localhost:8080/"
        },
        "id": "byfJ8llE31GZ",
        "outputId": "ff616486-727d-4314-f757-81cc541908c3"
      },
      "execution_count": null,
      "outputs": [
        {
          "output_type": "stream",
          "name": "stdout",
          "text": [
            "색상:  Black 속도:  60\n",
            "색상:  Red\n",
            "속도:  70\n",
            "속도:  50\n"
          ]
        }
      ]
    },
    {
      "cell_type": "code",
      "source": [
        "A=[1,0]\n",
        "\n",
        "B=[[1,1],[1,0]]\n",
        "print(A+B)"
      ],
      "metadata": {
        "colab": {
          "base_uri": "https://localhost:8080/"
        },
        "id": "GqnZQCliBewQ",
        "outputId": "0d3124d5-bfc2-44e7-e1ab-3c3b504a415e"
      },
      "execution_count": null,
      "outputs": [
        {
          "output_type": "stream",
          "name": "stdout",
          "text": [
            "[1, 0, [1, 1], [1, 0]]\n"
          ]
        }
      ]
    },
    {
      "cell_type": "code",
      "source": [
        "import numpy as np\n",
        "A = np.array([[1,0],[0,1]])\n",
        "B = np.array([[1,1],[1,1]])\n",
        "A + B"
      ],
      "metadata": {
        "colab": {
          "base_uri": "https://localhost:8080/"
        },
        "id": "YJZciIjOBgrP",
        "outputId": "45e39583-d7ae-451f-8ddb-5b93d601852a"
      },
      "execution_count": null,
      "outputs": [
        {
          "output_type": "execute_result",
          "data": {
            "text/plain": [
              "array([[2, 1],\n",
              "       [1, 2]])"
            ]
          },
          "metadata": {},
          "execution_count": 13
        }
      ]
    },
    {
      "cell_type": "code",
      "source": [
        "import numpy as np\n",
        "\n",
        "A=np.array([1,2,3])\n",
        "B= np.array([4,5,6])\n",
        "print(\"A==\",A,',B==',B)\n",
        "print(\"vector A shape ==\",A.shape,',vector B shape==',B.shape)\n",
        "print(\"vector A dimenson ==\", A.ndim,\", vector B doimension ==\",B.ndim)"
      ],
      "metadata": {
        "colab": {
          "base_uri": "https://localhost:8080/"
        },
        "id": "SqsyY8xgDFRG",
        "outputId": "770a5c78-eaa6-44c4-ea70-c2e045164d01"
      },
      "execution_count": null,
      "outputs": [
        {
          "output_type": "stream",
          "name": "stdout",
          "text": [
            "A== [1 2 3] ,B== [4 5 6]\n",
            "vector A shape == (3,) ,vector B shape== (3,)\n",
            "vector A dimenson == 1 , vector B doimension == 1\n"
          ]
        }
      ]
    },
    {
      "cell_type": "code",
      "source": [
        "import numpy as np\n",
        "A= np.array([[1,2,3],[2,4,6]])\n",
        "B=np.array([[-1,-2,-3],[-4,-5,-6]])\n",
        "\n",
        "print('matrix A= ',A)\n",
        "print('matrinx B= ',B)\n",
        "print(\"matrix A shape==\",A.shape,\", matrix B shape ==\",B.shape)\n",
        "print(\"matrix A dimemsion == \",A.ndim,\", matrix B dimension ==\",B.ndim)"
      ],
      "metadata": {
        "colab": {
          "base_uri": "https://localhost:8080/"
        },
        "id": "67qxGbxZI-TL",
        "outputId": "814a67be-b433-4efc-bf93-430c30766538"
      },
      "execution_count": null,
      "outputs": [
        {
          "output_type": "stream",
          "name": "stdout",
          "text": [
            "matrix A=  [[1 2 3]\n",
            " [2 4 6]]\n",
            "matrinx B=  [[-1 -2 -3]\n",
            " [-4 -5 -6]]\n",
            "matrix A shape== (2, 3) , matrix B shape == (2, 3)\n",
            "matrix A dimemsion ==  2 , matrix B dimension == 2\n"
          ]
        }
      ]
    },
    {
      "cell_type": "code",
      "source": [
        "import numpy as np\n",
        "A=np.array([1,2,3])\n",
        "B=np.array([4,5,6])\n",
        "\n",
        "print(\"A==\",A,\",B== \",B)\n",
        "print(\"A+B== \",A+B)\n",
        "print(\"A-b==\",A-B)\n",
        "print(\"A*B==\",A*B)\n",
        "print(\"A/B== \",A/B)"
      ],
      "metadata": {
        "colab": {
          "base_uri": "https://localhost:8080/"
        },
        "id": "Bj6GusbpK4hl",
        "outputId": "51f7c48b-0a6c-4b87-e2a7-6052d9d7df10"
      },
      "execution_count": null,
      "outputs": [
        {
          "output_type": "stream",
          "name": "stdout",
          "text": [
            "A== [1 2 3] ,B==  [4 5 6]\n",
            "A+B==  [5 7 9]\n",
            "A-b== [-3 -3 -3]\n",
            "A*B== [ 4 10 18]\n",
            "A/B==  [0.25 0.4  0.5 ]\n"
          ]
        }
      ]
    },
    {
      "cell_type": "code",
      "source": [
        "import numpy as np\n",
        "C=np.array([1,2,3])\n",
        "print(\"C.shape ==\",C.shape)\n",
        "\n",
        "C=C.reshape(1,3)\n",
        "print (\"C.shape ==\",C.shape)\n",
        "\n",
        "D=np.array([[1,2,3],[4,5,6]])\n",
        "print(\"D.shape ==\",D.shape)\n",
        "\n",
        "D=D.reshape(3,2)\n",
        "print(\"D.shape ==\",D.shape)"
      ],
      "metadata": {
        "colab": {
          "base_uri": "https://localhost:8080/"
        },
        "id": "xJVxhtElNRvD",
        "outputId": "13c0d5bc-92fd-4033-cc8e-449d59b57d52"
      },
      "execution_count": null,
      "outputs": [
        {
          "output_type": "stream",
          "name": "stdout",
          "text": [
            "C.shape == (3,)\n",
            "C.shape == (1, 3)\n",
            "D.shape == (2, 3)\n",
            "D.shape == (3, 2)\n"
          ]
        }
      ]
    },
    {
      "cell_type": "code",
      "source": [
        "import numpy as np\n",
        "A= np.array([[1,2,3,4],[10,20,30,40],[100,200,300,400]])\n",
        "print(A.shape)\n",
        "B= A.reshape(-1,3)\n",
        "print('B.shape = ',B.shape)\n",
        "print(B)\n",
        "\n",
        "C =  A.reshape(-1,6)\n",
        "print('C.shape = ',C.shape)\n",
        "print(C)"
      ],
      "metadata": {
        "colab": {
          "base_uri": "https://localhost:8080/"
        },
        "id": "Q-KUh6z_QO_c",
        "outputId": "f11bcb6d-5e3e-4b09-aa94-40b3660a2ebb"
      },
      "execution_count": null,
      "outputs": [
        {
          "output_type": "stream",
          "name": "stdout",
          "text": [
            "(3, 4)\n",
            "B.shape =  (4, 3)\n",
            "[[  1   2   3]\n",
            " [  4  10  20]\n",
            " [ 30  40 100]\n",
            " [200 300 400]]\n",
            "C.shape =  (2, 6)\n",
            "[[  1   2   3   4  10  20]\n",
            " [ 30  40 100 200 300 400]]\n"
          ]
        }
      ]
    },
    {
      "cell_type": "code",
      "source": [
        "import numpy as np\n",
        "A=np.array([[1,2],[3,4]])\n",
        "B=5\n",
        "print(A+B)\n",
        "\n",
        "C=np.array([[1,2],[3,4]])\n",
        "D=np.array([4,5])\n",
        "print (C+D)\n"
      ],
      "metadata": {
        "colab": {
          "base_uri": "https://localhost:8080/"
        },
        "id": "x-ypATVWSYAT",
        "outputId": "bf7fe275-7bbe-462c-85e9-4453f1e0d7c5"
      },
      "execution_count": null,
      "outputs": [
        {
          "output_type": "stream",
          "name": "stdout",
          "text": [
            "[[6 7]\n",
            " [8 9]]\n",
            "[[5 7]\n",
            " [7 9]]\n"
          ]
        }
      ]
    },
    {
      "cell_type": "code",
      "source": [
        "import numpy as np\n",
        "\n",
        "A=np.array([[1,2],[3,4],[5,6]])\n",
        "B=A.T\n",
        "\n",
        "print('A.shape = ',A.shape)\n",
        "print('B.shape =',B.shape)\n",
        "print(A)\n",
        "print(B)"
      ],
      "metadata": {
        "id": "3ea8iIGbWXor",
        "outputId": "ab2d3e5b-420f-4ca0-c1a1-aafbfb65198e",
        "colab": {
          "base_uri": "https://localhost:8080/"
        }
      },
      "execution_count": null,
      "outputs": [
        {
          "output_type": "stream",
          "name": "stdout",
          "text": [
            "A.shape =  (3, 2)\n",
            "B.shape = (2, 3)\n",
            "[[1 2]\n",
            " [3 4]\n",
            " [5 6]]\n",
            "[[1 3 5]\n",
            " [2 4 6]]\n"
          ]
        }
      ]
    }
  ]
}